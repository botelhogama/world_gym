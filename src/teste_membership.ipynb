{
 "cells": [
  {
   "cell_type": "code",
   "execution_count": 1,
   "outputs": [],
   "source": [
    "import requests\n",
    "import pandas as pd\n",
    "import json\n",
    "import os\n",
    "from utils.get_data import *"
   ],
   "metadata": {
    "collapsed": false,
    "ExecuteTime": {
     "end_time": "2023-10-07T18:56:36.305574Z",
     "start_time": "2023-10-07T18:56:35.873060300Z"
    }
   }
  },
  {
   "cell_type": "code",
   "execution_count": 3,
   "metadata": {
    "collapsed": true,
    "ExecuteTime": {
     "end_time": "2023-10-07T18:57:01.494268100Z",
     "start_time": "2023-10-07T18:57:01.121942200Z"
    }
   },
   "outputs": [
    {
     "name": "stdout",
     "output_type": "stream",
     "text": [
      "Data loaded from cache for endpoint: /api/v1/membermembership\n"
     ]
    },
    {
     "data": {
      "text/plain": "      idMember                         name  idMembership  idMemberMemberShip  \\\n0        65363         LAYLA LORRANNE MUNIZ          3300              424723   \n1        58135      VINICIUS MELGAÇO FALCAO          3024              433687   \n2        56699  GLENDA RANY MAXIMO DE SOUZA          3024              426204   \n3        41389       GERCILIA  MÁXIMO ALVES          2583              425287   \n4        59317      LORRANY MENDES CARVALHO          3081              424273   \n...        ...                          ...           ...                 ...   \n4235     40422      VALDENICE SILVA RIBEIRO          2585              185991   \n4236     40258      SELMA PEREIRA DA SILVA           2585              185886   \n4237     39981        LEILA  ALVES DE SOUZA          2593              185826   \n4238     40175                    ANA MARIA          2585              185726   \n4239     39942            PAULA TESTE TESTE          2594              185721   \n\n      numMembers    idSale                                     nameMembership  \\\n0            0.0  411066.0             WORLD GYM ITAPOA FIT DIA DAS MÃES 2023   \n1            0.0  420579.0  WORLD GYM ITAPOA FIT RECORRENTE 119,90 (SEM MA...   \n2            0.0  412688.0  WORLD GYM ITAPOA FIT RECORRENTE 119,90 (SEM MA...   \n3            0.0  411696.0  WORLD GYM  ITAPOA FIT  RECORRENTE 99,90 (MANUT...   \n4            0.0  410584.0  WORLD GYM ITAPOA FIT RECORRENTE PRIMEIRO MÊS 9...   \n...          ...       ...                                                ...   \n4235         0.0  111393.0  WORLD GYM  ITAPOA  -  LISTA VIP  RECORRENTE  R...   \n4236         0.0  111284.0  WORLD GYM  ITAPOA  -  LISTA VIP  RECORRENTE  R...   \n4237         0.0  111222.0           WORLD GYM  ITAPOA -  LISTA VIP  R$ 89,90   \n4238         0.0  111118.0  WORLD GYM  ITAPOA  -  LISTA VIP  RECORRENTE  R...   \n4239         0.0  111109.0                WORLD GYM  ITAPOA MENSAL R$ 139,90    \n\n          membershipStart        membershipEnd registerCancelDate  \\\n0     2023-07-29T00:00:00  2023-08-28T00:00:00               None   \n1     2023-08-15T00:00:00  2023-09-14T00:00:00               None   \n2     2023-08-03T00:00:00  2023-09-02T00:00:00               None   \n3     2023-08-01T00:00:00  2023-08-31T00:00:00               None   \n4     2023-07-28T00:00:00  2023-08-27T00:00:00               None   \n...                   ...                  ...                ...   \n4235  2021-03-06T00:00:00  2021-04-05T00:00:00               None   \n4236  2021-03-06T00:00:00  2021-04-05T00:00:00               None   \n4237  2021-03-06T00:00:00  2022-03-05T00:00:00               None   \n4238  2021-03-06T00:00:00  2021-04-05T00:00:00               None   \n4239  2021-02-10T00:00:00  2021-03-09T00:00:00               None   \n\n               cancelDate             saleDate  cancellationFine  \\\n0     2023-08-28T05:32:06  2023-07-28T00:00:00               NaN   \n1     2023-08-27T11:55:30  2023-08-14T00:00:00               0.0   \n2     2023-08-27T11:54:35  2023-08-02T00:00:00               0.0   \n3     2023-08-27T11:51:04  2023-07-31T00:00:00               0.0   \n4     2023-08-27T06:55:23  2023-07-27T00:00:00               NaN   \n...                   ...                  ...               ...   \n4235  2021-02-12T16:31:37  2021-02-12T16:22:48               NaN   \n4236  2021-02-11T17:20:18  2021-02-11T17:18:31               NaN   \n4237  2021-02-11T15:05:28  2021-02-11T15:02:58               NaN   \n4238  2021-02-11T09:44:44  2021-02-11T09:38:16               NaN   \n4239  2021-02-10T17:22:49  2021-02-10T17:18:56               NaN   \n\n      remainingValue                                        receivables  \\\n0                NaN  [{'idReceivable': 1723652, 'description': 'Sal...   \n1              71.94  [{'idReceivable': 1764674, 'description': 'Sal...   \n2              23.98  [{'idReceivable': 1734718, 'description': 'Sal...   \n3              13.32  [{'idReceivable': 1729555, 'description': 'Car...   \n4                NaN  [{'idReceivable': 1721003, 'description': 'Sal...   \n...              ...                                                ...   \n4235             NaN  [{'idReceivable': 482789, 'description': 'Sald...   \n4236             NaN  [{'idReceivable': 482595, 'description': 'Sald...   \n4237             NaN  [{'idReceivable': 482531, 'description': 'Sald...   \n4238             NaN  [{'idReceivable': 482312, 'description': 'Sald...   \n4239             NaN  [{'idReceivable': 482273, 'description': 'Dinh...   \n\n     minPeriodStayMembership  \\\n0                       None   \n1                       None   \n2                       None   \n3                       None   \n4                       None   \n...                      ...   \n4235                    None   \n4236                    None   \n4237                    None   \n4238                    None   \n4239                    None   \n\n                                 membershipTrasnferData  \\\n0     {'flTransfer': False, 'idMemberTransfer': None...   \n1     {'flTransfer': False, 'idMemberTransfer': None...   \n2     {'flTransfer': False, 'idMemberTransfer': None...   \n3     {'flTransfer': False, 'idMemberTransfer': None...   \n4     {'flTransfer': False, 'idMemberTransfer': None...   \n...                                                 ...   \n4235  {'flTransfer': False, 'idMemberTransfer': None...   \n4236  {'flTransfer': False, 'idMemberTransfer': None...   \n4237  {'flTransfer': False, 'idMemberTransfer': None...   \n4238  {'flTransfer': False, 'idMemberTransfer': None...   \n4239  {'flTransfer': False, 'idMemberTransfer': None...   \n\n                                     membershipSwapData  \n0     {'flMembershipSwapped': False, 'idMemberMember...  \n1     {'flMembershipSwapped': False, 'idMemberMember...  \n2     {'flMembershipSwapped': False, 'idMemberMember...  \n3     {'flMembershipSwapped': False, 'idMemberMember...  \n4     {'flMembershipSwapped': False, 'idMemberMember...  \n...                                                 ...  \n4235  {'flMembershipSwapped': False, 'idMemberMember...  \n4236  {'flMembershipSwapped': False, 'idMemberMember...  \n4237  {'flMembershipSwapped': False, 'idMemberMember...  \n4238  {'flMembershipSwapped': False, 'idMemberMember...  \n4239  {'flMembershipSwapped': False, 'idMemberMember...  \n\n[4240 rows x 18 columns]",
      "text/html": "<div>\n<style scoped>\n    .dataframe tbody tr th:only-of-type {\n        vertical-align: middle;\n    }\n\n    .dataframe tbody tr th {\n        vertical-align: top;\n    }\n\n    .dataframe thead th {\n        text-align: right;\n    }\n</style>\n<table border=\"1\" class=\"dataframe\">\n  <thead>\n    <tr style=\"text-align: right;\">\n      <th></th>\n      <th>idMember</th>\n      <th>name</th>\n      <th>idMembership</th>\n      <th>idMemberMemberShip</th>\n      <th>numMembers</th>\n      <th>idSale</th>\n      <th>nameMembership</th>\n      <th>membershipStart</th>\n      <th>membershipEnd</th>\n      <th>registerCancelDate</th>\n      <th>cancelDate</th>\n      <th>saleDate</th>\n      <th>cancellationFine</th>\n      <th>remainingValue</th>\n      <th>receivables</th>\n      <th>minPeriodStayMembership</th>\n      <th>membershipTrasnferData</th>\n      <th>membershipSwapData</th>\n    </tr>\n  </thead>\n  <tbody>\n    <tr>\n      <th>0</th>\n      <td>65363</td>\n      <td>LAYLA LORRANNE MUNIZ</td>\n      <td>3300</td>\n      <td>424723</td>\n      <td>0.0</td>\n      <td>411066.0</td>\n      <td>WORLD GYM ITAPOA FIT DIA DAS MÃES 2023</td>\n      <td>2023-07-29T00:00:00</td>\n      <td>2023-08-28T00:00:00</td>\n      <td>None</td>\n      <td>2023-08-28T05:32:06</td>\n      <td>2023-07-28T00:00:00</td>\n      <td>NaN</td>\n      <td>NaN</td>\n      <td>[{'idReceivable': 1723652, 'description': 'Sal...</td>\n      <td>None</td>\n      <td>{'flTransfer': False, 'idMemberTransfer': None...</td>\n      <td>{'flMembershipSwapped': False, 'idMemberMember...</td>\n    </tr>\n    <tr>\n      <th>1</th>\n      <td>58135</td>\n      <td>VINICIUS MELGAÇO FALCAO</td>\n      <td>3024</td>\n      <td>433687</td>\n      <td>0.0</td>\n      <td>420579.0</td>\n      <td>WORLD GYM ITAPOA FIT RECORRENTE 119,90 (SEM MA...</td>\n      <td>2023-08-15T00:00:00</td>\n      <td>2023-09-14T00:00:00</td>\n      <td>None</td>\n      <td>2023-08-27T11:55:30</td>\n      <td>2023-08-14T00:00:00</td>\n      <td>0.0</td>\n      <td>71.94</td>\n      <td>[{'idReceivable': 1764674, 'description': 'Sal...</td>\n      <td>None</td>\n      <td>{'flTransfer': False, 'idMemberTransfer': None...</td>\n      <td>{'flMembershipSwapped': False, 'idMemberMember...</td>\n    </tr>\n    <tr>\n      <th>2</th>\n      <td>56699</td>\n      <td>GLENDA RANY MAXIMO DE SOUZA</td>\n      <td>3024</td>\n      <td>426204</td>\n      <td>0.0</td>\n      <td>412688.0</td>\n      <td>WORLD GYM ITAPOA FIT RECORRENTE 119,90 (SEM MA...</td>\n      <td>2023-08-03T00:00:00</td>\n      <td>2023-09-02T00:00:00</td>\n      <td>None</td>\n      <td>2023-08-27T11:54:35</td>\n      <td>2023-08-02T00:00:00</td>\n      <td>0.0</td>\n      <td>23.98</td>\n      <td>[{'idReceivable': 1734718, 'description': 'Sal...</td>\n      <td>None</td>\n      <td>{'flTransfer': False, 'idMemberTransfer': None...</td>\n      <td>{'flMembershipSwapped': False, 'idMemberMember...</td>\n    </tr>\n    <tr>\n      <th>3</th>\n      <td>41389</td>\n      <td>GERCILIA  MÁXIMO ALVES</td>\n      <td>2583</td>\n      <td>425287</td>\n      <td>0.0</td>\n      <td>411696.0</td>\n      <td>WORLD GYM  ITAPOA FIT  RECORRENTE 99,90 (MANUT...</td>\n      <td>2023-08-01T00:00:00</td>\n      <td>2023-08-31T00:00:00</td>\n      <td>None</td>\n      <td>2023-08-27T11:51:04</td>\n      <td>2023-07-31T00:00:00</td>\n      <td>0.0</td>\n      <td>13.32</td>\n      <td>[{'idReceivable': 1729555, 'description': 'Car...</td>\n      <td>None</td>\n      <td>{'flTransfer': False, 'idMemberTransfer': None...</td>\n      <td>{'flMembershipSwapped': False, 'idMemberMember...</td>\n    </tr>\n    <tr>\n      <th>4</th>\n      <td>59317</td>\n      <td>LORRANY MENDES CARVALHO</td>\n      <td>3081</td>\n      <td>424273</td>\n      <td>0.0</td>\n      <td>410584.0</td>\n      <td>WORLD GYM ITAPOA FIT RECORRENTE PRIMEIRO MÊS 9...</td>\n      <td>2023-07-28T00:00:00</td>\n      <td>2023-08-27T00:00:00</td>\n      <td>None</td>\n      <td>2023-08-27T06:55:23</td>\n      <td>2023-07-27T00:00:00</td>\n      <td>NaN</td>\n      <td>NaN</td>\n      <td>[{'idReceivable': 1721003, 'description': 'Sal...</td>\n      <td>None</td>\n      <td>{'flTransfer': False, 'idMemberTransfer': None...</td>\n      <td>{'flMembershipSwapped': False, 'idMemberMember...</td>\n    </tr>\n    <tr>\n      <th>...</th>\n      <td>...</td>\n      <td>...</td>\n      <td>...</td>\n      <td>...</td>\n      <td>...</td>\n      <td>...</td>\n      <td>...</td>\n      <td>...</td>\n      <td>...</td>\n      <td>...</td>\n      <td>...</td>\n      <td>...</td>\n      <td>...</td>\n      <td>...</td>\n      <td>...</td>\n      <td>...</td>\n      <td>...</td>\n      <td>...</td>\n    </tr>\n    <tr>\n      <th>4235</th>\n      <td>40422</td>\n      <td>VALDENICE SILVA RIBEIRO</td>\n      <td>2585</td>\n      <td>185991</td>\n      <td>0.0</td>\n      <td>111393.0</td>\n      <td>WORLD GYM  ITAPOA  -  LISTA VIP  RECORRENTE  R...</td>\n      <td>2021-03-06T00:00:00</td>\n      <td>2021-04-05T00:00:00</td>\n      <td>None</td>\n      <td>2021-02-12T16:31:37</td>\n      <td>2021-02-12T16:22:48</td>\n      <td>NaN</td>\n      <td>NaN</td>\n      <td>[{'idReceivable': 482789, 'description': 'Sald...</td>\n      <td>None</td>\n      <td>{'flTransfer': False, 'idMemberTransfer': None...</td>\n      <td>{'flMembershipSwapped': False, 'idMemberMember...</td>\n    </tr>\n    <tr>\n      <th>4236</th>\n      <td>40258</td>\n      <td>SELMA PEREIRA DA SILVA</td>\n      <td>2585</td>\n      <td>185886</td>\n      <td>0.0</td>\n      <td>111284.0</td>\n      <td>WORLD GYM  ITAPOA  -  LISTA VIP  RECORRENTE  R...</td>\n      <td>2021-03-06T00:00:00</td>\n      <td>2021-04-05T00:00:00</td>\n      <td>None</td>\n      <td>2021-02-11T17:20:18</td>\n      <td>2021-02-11T17:18:31</td>\n      <td>NaN</td>\n      <td>NaN</td>\n      <td>[{'idReceivable': 482595, 'description': 'Sald...</td>\n      <td>None</td>\n      <td>{'flTransfer': False, 'idMemberTransfer': None...</td>\n      <td>{'flMembershipSwapped': False, 'idMemberMember...</td>\n    </tr>\n    <tr>\n      <th>4237</th>\n      <td>39981</td>\n      <td>LEILA  ALVES DE SOUZA</td>\n      <td>2593</td>\n      <td>185826</td>\n      <td>0.0</td>\n      <td>111222.0</td>\n      <td>WORLD GYM  ITAPOA -  LISTA VIP  R$ 89,90</td>\n      <td>2021-03-06T00:00:00</td>\n      <td>2022-03-05T00:00:00</td>\n      <td>None</td>\n      <td>2021-02-11T15:05:28</td>\n      <td>2021-02-11T15:02:58</td>\n      <td>NaN</td>\n      <td>NaN</td>\n      <td>[{'idReceivable': 482531, 'description': 'Sald...</td>\n      <td>None</td>\n      <td>{'flTransfer': False, 'idMemberTransfer': None...</td>\n      <td>{'flMembershipSwapped': False, 'idMemberMember...</td>\n    </tr>\n    <tr>\n      <th>4238</th>\n      <td>40175</td>\n      <td>ANA MARIA</td>\n      <td>2585</td>\n      <td>185726</td>\n      <td>0.0</td>\n      <td>111118.0</td>\n      <td>WORLD GYM  ITAPOA  -  LISTA VIP  RECORRENTE  R...</td>\n      <td>2021-03-06T00:00:00</td>\n      <td>2021-04-05T00:00:00</td>\n      <td>None</td>\n      <td>2021-02-11T09:44:44</td>\n      <td>2021-02-11T09:38:16</td>\n      <td>NaN</td>\n      <td>NaN</td>\n      <td>[{'idReceivable': 482312, 'description': 'Sald...</td>\n      <td>None</td>\n      <td>{'flTransfer': False, 'idMemberTransfer': None...</td>\n      <td>{'flMembershipSwapped': False, 'idMemberMember...</td>\n    </tr>\n    <tr>\n      <th>4239</th>\n      <td>39942</td>\n      <td>PAULA TESTE TESTE</td>\n      <td>2594</td>\n      <td>185721</td>\n      <td>0.0</td>\n      <td>111109.0</td>\n      <td>WORLD GYM  ITAPOA MENSAL R$ 139,90</td>\n      <td>2021-02-10T00:00:00</td>\n      <td>2021-03-09T00:00:00</td>\n      <td>None</td>\n      <td>2021-02-10T17:22:49</td>\n      <td>2021-02-10T17:18:56</td>\n      <td>NaN</td>\n      <td>NaN</td>\n      <td>[{'idReceivable': 482273, 'description': 'Dinh...</td>\n      <td>None</td>\n      <td>{'flTransfer': False, 'idMemberTransfer': None...</td>\n      <td>{'flMembershipSwapped': False, 'idMemberMember...</td>\n    </tr>\n  </tbody>\n</table>\n<p>4240 rows × 18 columns</p>\n</div>"
     },
     "execution_count": 3,
     "metadata": {},
     "output_type": "execute_result"
    }
   ],
   "source": [
    "membermemberships = GetClientData(endpoint = '/api/v1/membermembership', take_number=25)\n",
    "membermemberships.retrieve_data(use_cache=False)\n"
   ]
  },
  {
   "cell_type": "code",
   "execution_count": 6,
   "outputs": [
    {
     "name": "stdout",
     "output_type": "stream",
     "text": [
      "Error: 500 Server Error: Internal Server Error for url: https://evo-integracao.w12app.com.br//api/v1/managment/activeclients?take=25&skip=0&onlyPersonal=False&showActivityData=True\n",
      "Total records retrieved: 0\n",
      "Data cached.\n"
     ]
    },
    {
     "data": {
      "text/plain": "Empty DataFrame\nColumns: []\nIndex: []",
      "text/html": "<div>\n<style scoped>\n    .dataframe tbody tr th:only-of-type {\n        vertical-align: middle;\n    }\n\n    .dataframe tbody tr th {\n        vertical-align: top;\n    }\n\n    .dataframe thead th {\n        text-align: right;\n    }\n</style>\n<table border=\"1\" class=\"dataframe\">\n  <thead>\n    <tr style=\"text-align: right;\">\n      <th></th>\n    </tr>\n  </thead>\n  <tbody>\n  </tbody>\n</table>\n</div>"
     },
     "execution_count": 6,
     "metadata": {},
     "output_type": "execute_result"
    }
   ],
   "source": [
    "activeclients = GetClientData(endpoint = '/api/v1/managment/activeclients', take_number=25)\n",
    "activeclients.retrieve_data(use_cache=False)"
   ],
   "metadata": {
    "collapsed": false,
    "ExecuteTime": {
     "end_time": "2023-10-07T19:25:22.467277300Z",
     "start_time": "2023-10-07T19:25:21.844855500Z"
    }
   }
  },
  {
   "cell_type": "code",
   "execution_count": null,
   "outputs": [],
   "source": [
    "# worldgym\n",
    "# D1BC64B6-4EE7-4E16-974E-BD37F2F3DC2E"
   ],
   "metadata": {
    "collapsed": false
   }
  },
  {
   "cell_type": "code",
   "execution_count": 9,
   "outputs": [
    {
     "data": {
      "text/plain": "     idMember           firstName            lastName         registerDate  \\\n0       20826  ***Dados Removidos                      2013-04-12T19:11:44   \n1       46305               Diego      Ponce De Leon   2021-06-21T12:53:26   \n2       46360             JANAINA      DE SOUSA MOURA  2021-06-22T12:32:55   \n3       46361     Kelle Rodrigues               Souza  2021-06-22T13:18:28   \n4       46362            Jonathan               Silva  2021-06-22T13:20:27   \n..        ...                 ...                 ...                  ...   \n220     46627           RAIMUNDO        NONATO PIRES   2021-06-26T12:50:21   \n221     46628             CARINE         SILVA SANTOS  2021-06-26T12:57:19   \n222     46629           ANDERSON    DA SILVA MEDEIROS  2021-06-26T12:59:19   \n223     46630      Carlos Matheus  Almeida De Andrade  2021-06-26T12:59:28   \n224     46631      LUIZ FERNANDO     Silva dos Santos  2021-06-26T13:27:29   \n\n     idBranch                       branchName accessBlocked  \\\n0           8  WORLD GYM - PLANALTINA DE GOIÁS         False   \n1           8  WORLD GYM - PLANALTINA DE GOIÁS          None   \n2           8  WORLD GYM - PLANALTINA DE GOIÁS          None   \n3           8  WORLD GYM - PLANALTINA DE GOIÁS          None   \n4           8  WORLD GYM - PLANALTINA DE GOIÁS          None   \n..        ...                              ...           ...   \n220         8  WORLD GYM - PLANALTINA DE GOIÁS          None   \n221         8  WORLD GYM - PLANALTINA DE GOIÁS          None   \n222         8  WORLD GYM - PLANALTINA DE GOIÁS         False   \n223         8  WORLD GYM - PLANALTINA DE GOIÁS          None   \n224         8  WORLD GYM - PLANALTINA DE GOIÁS          True   \n\n        blockedReason     document   documentId  ...  \\\n0                None  00000000000    000000000  ...   \n1                None  71346147191      3231593  ...   \n2                None  05446079108      3106600  ...   \n3                None  02806399106         0000  ...   \n4                None  03164944101       000000  ...   \n..                ...          ...          ...  ...   \n220              None  01695222377  21475312002  ...   \n221              None  05409968158      3258629  ...   \n222  ASSINAR CONTRATO  07526348360      4028842  ...   \n223              None         None     00000000  ...   \n224  ASSINAR CONTRATO  10866648763      3481594  ...   \n\n    nameEmployeePersonalTrainer  \\\n0                          None   \n1                          None   \n2                          None   \n3                          None   \n4                          None   \n..                          ...   \n220                        None   \n221                        None   \n222                        None   \n223                        None   \n224                        None   \n\n                                              photoUrl country  \\\n0                                                 None  Brasil   \n1                                                 None  Brasil   \n2    https://w12evostorage.blob.core.windows.net/fo...  Brasil   \n3    https://w12evostorage.blob.core.windows.net/fo...  Brasil   \n4    https://w12evostorage.blob.core.windows.net/fo...  Brasil   \n..                                                 ...     ...   \n220  https://w12evostorage.blob.core.windows.net/fo...  Brasil   \n221                                               None  Brasil   \n222  https://w12evostorage.blob.core.windows.net/fo...  Brasil   \n223                                               None    None   \n224  https://w12evostorage.blob.core.windows.net/fo...  Brasil   \n\n    idMemberMigration responsibles gympassId personalTrainer personalType  \\\n0                None           []      None           False         None   \n1                None           []      None           False         None   \n2                None           []      None           False         None   \n3                None           []      None           False         None   \n4                None           []      None           False         None   \n..                ...          ...       ...             ...          ...   \n220              None           []      None           False         None   \n221              None           []      None           False         None   \n222              None           []      None           False         None   \n223              None           []      None           False         None   \n224              None           []      None           False         None   \n\n     cref crefExpirationDate  \n0    None               None  \n1    None               None  \n2    None               None  \n3    None               None  \n4    None               None  \n..    ...                ...  \n220  None               None  \n221  None               None  \n222  None               None  \n223  None               None  \n224  None               None  \n\n[225 rows x 42 columns]",
      "text/html": "<div>\n<style scoped>\n    .dataframe tbody tr th:only-of-type {\n        vertical-align: middle;\n    }\n\n    .dataframe tbody tr th {\n        vertical-align: top;\n    }\n\n    .dataframe thead th {\n        text-align: right;\n    }\n</style>\n<table border=\"1\" class=\"dataframe\">\n  <thead>\n    <tr style=\"text-align: right;\">\n      <th></th>\n      <th>idMember</th>\n      <th>firstName</th>\n      <th>lastName</th>\n      <th>registerDate</th>\n      <th>idBranch</th>\n      <th>branchName</th>\n      <th>accessBlocked</th>\n      <th>blockedReason</th>\n      <th>document</th>\n      <th>documentId</th>\n      <th>...</th>\n      <th>nameEmployeePersonalTrainer</th>\n      <th>photoUrl</th>\n      <th>country</th>\n      <th>idMemberMigration</th>\n      <th>responsibles</th>\n      <th>gympassId</th>\n      <th>personalTrainer</th>\n      <th>personalType</th>\n      <th>cref</th>\n      <th>crefExpirationDate</th>\n    </tr>\n  </thead>\n  <tbody>\n    <tr>\n      <th>0</th>\n      <td>20826</td>\n      <td>***Dados Removidos</td>\n      <td></td>\n      <td>2013-04-12T19:11:44</td>\n      <td>8</td>\n      <td>WORLD GYM - PLANALTINA DE GOIÁS</td>\n      <td>False</td>\n      <td>None</td>\n      <td>00000000000</td>\n      <td>000000000</td>\n      <td>...</td>\n      <td>None</td>\n      <td>None</td>\n      <td>Brasil</td>\n      <td>None</td>\n      <td>[]</td>\n      <td>None</td>\n      <td>False</td>\n      <td>None</td>\n      <td>None</td>\n      <td>None</td>\n    </tr>\n    <tr>\n      <th>1</th>\n      <td>46305</td>\n      <td>Diego</td>\n      <td>Ponce De Leon</td>\n      <td>2021-06-21T12:53:26</td>\n      <td>8</td>\n      <td>WORLD GYM - PLANALTINA DE GOIÁS</td>\n      <td>None</td>\n      <td>None</td>\n      <td>71346147191</td>\n      <td>3231593</td>\n      <td>...</td>\n      <td>None</td>\n      <td>None</td>\n      <td>Brasil</td>\n      <td>None</td>\n      <td>[]</td>\n      <td>None</td>\n      <td>False</td>\n      <td>None</td>\n      <td>None</td>\n      <td>None</td>\n    </tr>\n    <tr>\n      <th>2</th>\n      <td>46360</td>\n      <td>JANAINA</td>\n      <td>DE SOUSA MOURA</td>\n      <td>2021-06-22T12:32:55</td>\n      <td>8</td>\n      <td>WORLD GYM - PLANALTINA DE GOIÁS</td>\n      <td>None</td>\n      <td>None</td>\n      <td>05446079108</td>\n      <td>3106600</td>\n      <td>...</td>\n      <td>None</td>\n      <td>https://w12evostorage.blob.core.windows.net/fo...</td>\n      <td>Brasil</td>\n      <td>None</td>\n      <td>[]</td>\n      <td>None</td>\n      <td>False</td>\n      <td>None</td>\n      <td>None</td>\n      <td>None</td>\n    </tr>\n    <tr>\n      <th>3</th>\n      <td>46361</td>\n      <td>Kelle Rodrigues</td>\n      <td>Souza</td>\n      <td>2021-06-22T13:18:28</td>\n      <td>8</td>\n      <td>WORLD GYM - PLANALTINA DE GOIÁS</td>\n      <td>None</td>\n      <td>None</td>\n      <td>02806399106</td>\n      <td>0000</td>\n      <td>...</td>\n      <td>None</td>\n      <td>https://w12evostorage.blob.core.windows.net/fo...</td>\n      <td>Brasil</td>\n      <td>None</td>\n      <td>[]</td>\n      <td>None</td>\n      <td>False</td>\n      <td>None</td>\n      <td>None</td>\n      <td>None</td>\n    </tr>\n    <tr>\n      <th>4</th>\n      <td>46362</td>\n      <td>Jonathan</td>\n      <td>Silva</td>\n      <td>2021-06-22T13:20:27</td>\n      <td>8</td>\n      <td>WORLD GYM - PLANALTINA DE GOIÁS</td>\n      <td>None</td>\n      <td>None</td>\n      <td>03164944101</td>\n      <td>000000</td>\n      <td>...</td>\n      <td>None</td>\n      <td>https://w12evostorage.blob.core.windows.net/fo...</td>\n      <td>Brasil</td>\n      <td>None</td>\n      <td>[]</td>\n      <td>None</td>\n      <td>False</td>\n      <td>None</td>\n      <td>None</td>\n      <td>None</td>\n    </tr>\n    <tr>\n      <th>...</th>\n      <td>...</td>\n      <td>...</td>\n      <td>...</td>\n      <td>...</td>\n      <td>...</td>\n      <td>...</td>\n      <td>...</td>\n      <td>...</td>\n      <td>...</td>\n      <td>...</td>\n      <td>...</td>\n      <td>...</td>\n      <td>...</td>\n      <td>...</td>\n      <td>...</td>\n      <td>...</td>\n      <td>...</td>\n      <td>...</td>\n      <td>...</td>\n      <td>...</td>\n      <td>...</td>\n    </tr>\n    <tr>\n      <th>220</th>\n      <td>46627</td>\n      <td>RAIMUNDO</td>\n      <td>NONATO PIRES</td>\n      <td>2021-06-26T12:50:21</td>\n      <td>8</td>\n      <td>WORLD GYM - PLANALTINA DE GOIÁS</td>\n      <td>None</td>\n      <td>None</td>\n      <td>01695222377</td>\n      <td>21475312002</td>\n      <td>...</td>\n      <td>None</td>\n      <td>https://w12evostorage.blob.core.windows.net/fo...</td>\n      <td>Brasil</td>\n      <td>None</td>\n      <td>[]</td>\n      <td>None</td>\n      <td>False</td>\n      <td>None</td>\n      <td>None</td>\n      <td>None</td>\n    </tr>\n    <tr>\n      <th>221</th>\n      <td>46628</td>\n      <td>CARINE</td>\n      <td>SILVA SANTOS</td>\n      <td>2021-06-26T12:57:19</td>\n      <td>8</td>\n      <td>WORLD GYM - PLANALTINA DE GOIÁS</td>\n      <td>None</td>\n      <td>None</td>\n      <td>05409968158</td>\n      <td>3258629</td>\n      <td>...</td>\n      <td>None</td>\n      <td>None</td>\n      <td>Brasil</td>\n      <td>None</td>\n      <td>[]</td>\n      <td>None</td>\n      <td>False</td>\n      <td>None</td>\n      <td>None</td>\n      <td>None</td>\n    </tr>\n    <tr>\n      <th>222</th>\n      <td>46629</td>\n      <td>ANDERSON</td>\n      <td>DA SILVA MEDEIROS</td>\n      <td>2021-06-26T12:59:19</td>\n      <td>8</td>\n      <td>WORLD GYM - PLANALTINA DE GOIÁS</td>\n      <td>False</td>\n      <td>ASSINAR CONTRATO</td>\n      <td>07526348360</td>\n      <td>4028842</td>\n      <td>...</td>\n      <td>None</td>\n      <td>https://w12evostorage.blob.core.windows.net/fo...</td>\n      <td>Brasil</td>\n      <td>None</td>\n      <td>[]</td>\n      <td>None</td>\n      <td>False</td>\n      <td>None</td>\n      <td>None</td>\n      <td>None</td>\n    </tr>\n    <tr>\n      <th>223</th>\n      <td>46630</td>\n      <td>Carlos Matheus</td>\n      <td>Almeida De Andrade</td>\n      <td>2021-06-26T12:59:28</td>\n      <td>8</td>\n      <td>WORLD GYM - PLANALTINA DE GOIÁS</td>\n      <td>None</td>\n      <td>None</td>\n      <td>None</td>\n      <td>00000000</td>\n      <td>...</td>\n      <td>None</td>\n      <td>None</td>\n      <td>None</td>\n      <td>None</td>\n      <td>[]</td>\n      <td>None</td>\n      <td>False</td>\n      <td>None</td>\n      <td>None</td>\n      <td>None</td>\n    </tr>\n    <tr>\n      <th>224</th>\n      <td>46631</td>\n      <td>LUIZ FERNANDO</td>\n      <td>Silva dos Santos</td>\n      <td>2021-06-26T13:27:29</td>\n      <td>8</td>\n      <td>WORLD GYM - PLANALTINA DE GOIÁS</td>\n      <td>True</td>\n      <td>ASSINAR CONTRATO</td>\n      <td>10866648763</td>\n      <td>3481594</td>\n      <td>...</td>\n      <td>None</td>\n      <td>https://w12evostorage.blob.core.windows.net/fo...</td>\n      <td>Brasil</td>\n      <td>None</td>\n      <td>[]</td>\n      <td>None</td>\n      <td>False</td>\n      <td>None</td>\n      <td>None</td>\n      <td>None</td>\n    </tr>\n  </tbody>\n</table>\n<p>225 rows × 42 columns</p>\n</div>"
     },
     "execution_count": 9,
     "metadata": {},
     "output_type": "execute_result"
    }
   ],
   "source": [
    "# df"
   ],
   "metadata": {
    "collapsed": false,
    "ExecuteTime": {
     "end_time": "2023-10-07T20:03:35.557897900Z",
     "start_time": "2023-10-07T20:03:35.490901Z"
    }
   }
  },
  {
   "cell_type": "code",
   "execution_count": null,
   "outputs": [
    {
     "name": "stdout",
     "output_type": "stream",
     "text": [
      "Status Code: 200\n",
      "Total Records So Far: 50\n",
      "Retrieved 50 records so far\n"
     ]
    }
   ],
   "source": [
    "import requests\n",
    "import pandas as pd\n",
    "import json\n",
    "import os\n",
    "\n",
    "class GetClientData:\n",
    "    def __init__(self, endpoint=\"/api/v1/members\", take_number=25, unidade = 'planaltina'):\n",
    "        self.base_url = \"https://evo-integracao.w12app.com.br/\"\n",
    "        self.user = \"worldgym\"\n",
    "        if unidade == \"itapoa\":\n",
    "            self.password = \"44D6E01E-6DFF-4E0F-A787-73F0036496F1\"\n",
    "        elif unidade == \"planaltina\":\n",
    "            self.password = \"D1BC64B6-4EE7-4E16-974E-BD37F2F3DC2E\"\n",
    "\n",
    "        self.endpoint = endpoint\n",
    "        self.params = {\n",
    "            \"take\": take_number,\n",
    "            \"skip\": 0,\n",
    "            \"onlyPersonal\": False,\n",
    "            \"showActivityData\": True\n",
    "        }\n",
    "        self.data = []\n",
    "\n",
    "    def make_api_request(self):\n",
    "        try:\n",
    "            while True:\n",
    "                response = requests.get(self.base_url + self.endpoint, auth=(self.user, self.password), params=self.params)\n",
    "                response.raise_for_status()\n",
    "\n",
    "                # Debugging Point: Print the status code\n",
    "                print(f\"Status Code: {response.status_code}\")\n",
    "\n",
    "                current_data = response.json()\n",
    "                self.data.extend(current_data)\n",
    "\n",
    "                # Debugging Point: Print the number of records fetched so far\n",
    "                print(f\"Total Records So Far: {len(self.data)}\")\n",
    "\n",
    "                if len(current_data) < self.params[\"take\"]:\n",
    "                    break\n",
    "                self.params[\"skip\"] += self.params[\"take\"]\n",
    "                print(f\"Retrieved {self.params['skip']} records so far\")\n",
    "\n",
    "        except requests.exceptions.RequestException as e:\n",
    "            print(\"Error:\", e)\n",
    "\n",
    "    def retrieve_data(self, use_cache=True):\n",
    "        cache_file_path = f\"C:/Users/Pichau/PycharmProjects/worldgym/data/{self.endpoint.replace('/','_')}_cache.json\"\n",
    "\n",
    "        if use_cache and os.path.exists(cache_file_path):\n",
    "            with open(cache_file_path, \"r\") as file:\n",
    "                self.data = json.load(file)\n",
    "            print(f\"Data loaded from cache for endpoint: {self.endpoint}\")\n",
    "        else:\n",
    "            self.make_api_request()\n",
    "            print(f\"Total records retrieved: {len(self.data)}\")\n",
    "            os.makedirs(os.path.dirname(cache_file_path), exist_ok=True)\n",
    "            with open(cache_file_path, \"w\") as file:\n",
    "                json.dump(self.data, file)\n",
    "            print(\"Data cached.\")\n",
    "\n",
    "        df = pd.DataFrame(self.data)\n",
    "        return df\n",
    "\n",
    "\n",
    "clients_planaltina = GetClientData(endpoint = \"/api/v1/members\", take_number=50)\n",
    "df = clients_planaltina.retrieve_data(use_cache=False)"
   ],
   "metadata": {
    "collapsed": false,
    "is_executing": true,
    "ExecuteTime": {
     "start_time": "2023-10-07T20:47:51.337249100Z"
    }
   }
  },
  {
   "cell_type": "code",
   "execution_count": null,
   "outputs": [],
   "source": [],
   "metadata": {
    "collapsed": false
   }
  }
 ],
 "metadata": {
  "kernelspec": {
   "display_name": "Python 3",
   "language": "python",
   "name": "python3"
  },
  "language_info": {
   "codemirror_mode": {
    "name": "ipython",
    "version": 2
   },
   "file_extension": ".py",
   "mimetype": "text/x-python",
   "name": "python",
   "nbconvert_exporter": "python",
   "pygments_lexer": "ipython2",
   "version": "2.7.6"
  }
 },
 "nbformat": 4,
 "nbformat_minor": 0
}
